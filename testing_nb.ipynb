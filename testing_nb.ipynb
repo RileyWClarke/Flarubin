{
 "cells": [
  {
   "cell_type": "code",
   "execution_count": 1,
   "metadata": {
    "ExecuteTime": {
     "end_time": "2021-10-08T19:06:58.831189Z",
     "start_time": "2021-10-08T19:06:57.424967Z"
    }
   },
   "outputs": [],
   "source": [
    "%matplotlib inline\n",
    "import matplotlib.pyplot as plt\n",
    "import numpy as np\n",
    "\n",
    "from make_bb import *\n",
    "from filt_interp import *\n",
    "from mdwarf_interp import *\n",
    "from lamb_eff import *\n",
    "from dcr_offset import *"
   ]
  },
  {
   "cell_type": "markdown",
   "metadata": {},
   "source": [
    "# code review\n",
    "- PEP8 compliance - spaces around operators FIXED\n",
    "- dont use list use arrays when size is predetermined FIXED\n",
    "- moved lines that do not depend on ff out of the ffs loop FIXED\n",
    "- your fist savefig statement returned an error cause fig is not defined FIXED\n",
    "- put counter so user knows how long its gonna be FIXED\n",
    "- plot the firse derived product first, leff first then r which depends on leff FIXED"
   ]
  },
  {
   "cell_type": "code",
   "execution_count": 22,
   "metadata": {
    "ExecuteTime": {
     "end_time": "2021-10-08T19:27:16.750577Z",
     "start_time": "2021-10-08T19:27:14.216573Z"
    }
   },
   "outputs": [
    {
     "name": "stdout",
     "output_type": "stream",
     "text": [
      "0 of  1\n"
     ]
    },
    {
     "data": {
      "image/png": "[encoded data removed]",
      "text/plain": [
       "<Figure size 432x288 with 1 Axes>"
      ]
     },
     "metadata": {
      "needs_background": "light"
     },
     "output_type": "display_data"
    },
    {
     "data": {
      "image/png": "[encoded data removed]",
      "text/plain": [
       "<Figure size 432x288 with 1 Axes>"
      ]
     },
     "metadata": {
      "needs_background": "light"
     },
     "output_type": "display_data"
    }
   ],
   "source": [
    "fig1, ax1 = plt.subplots()\n",
    "fig2, ax2 = plt.subplots()\n",
    "\n",
    "am = 1.4 #airmass\n",
    "ffs = np.arange(0.0, 3.5, 4) #fraction of normalized BB added to mdwarf spectrum\n",
    "BBwave = np.arange(0, 12000, 1) #wavelength array for make_bb\n",
    "band = 'r' #LSST bandpass\n",
    "\n",
    "\n",
    "\n",
    "tstep = 500\n",
    "temps = np.arange(3000, 10000 + tstep, tstep)\n",
    "\n",
    "for j,ff in enumerate(ffs):\n",
    "    print(j, \"of \", len(ffs))\n",
    "    Rlist = np.zeros(len(temps))\n",
    "    wefflist = np.zeros(len(temps))\n",
    "\n",
    "    for i,t in enumerate(temps):\n",
    "        w_eff = lamb_eff(band=band, temp=t, mdname='m5.all.na.k.fits', ff=ff, normT=10000)\n",
    "        R = dcr_offset(w_eff, airmass = am)\n",
    "        \n",
    "        Rlist[i] = R\n",
    "        wefflist[i] =w_eff\n",
    "\n",
    "    ax1.plot(temps, wefflist, label='ff={}'.format(ff))\n",
    "    ax1.set_xlabel('Temp (K)')\n",
    "    ax1.set_ylabel(r'$\\lambda_{eff}$ ($\\AA$)')\n",
    "    ax1.set_title(r'$\\lambda_{eff}$'+' {}-band'.format(band))\n",
    "    ax1.legend()\n",
    "    \n",
    "    ax2.plot(temps, Rlist,label='ff = {}'.format(ff))\n",
    "    ax2.set_xlabel('Temperature (K)')\n",
    "    ax2.set_ylabel('R (arcsec)')\n",
    "    ax2.set_title('DCR offset {}-band'.format(band))\n",
    "    ax2.legend()\n",
    "\n",
    "\n",
    "fig1.savefig('Figures/rplot.png', dpi=300, bbox_inches='tight')\n",
    "fig2.savefig('Figures/weffplot.png', dpi=300, bbox_inches='tight')"
   ]
  },
  {
   "cell_type": "code",
   "execution_count": 23,
   "metadata": {
    "ExecuteTime": {
     "end_time": "2021-10-08T19:27:16.755097Z",
     "start_time": "2021-10-08T19:27:16.752286Z"
    }
   },
   "outputs": [
    {
     "name": "stdout",
     "output_type": "stream",
     "text": [
      "[6315.18541202 6315.18541202 6315.18541202 6315.18541202 6315.18541202\n",
      " 6315.18541202 6315.18541202 6315.18541202 6315.18541202 6315.18541202\n",
      " 6315.18541202 6315.18541202 6315.18541202 6315.18541202 6315.18541202]\n"
     ]
    }
   ],
   "source": [
    "print(wefflist)"
   ]
  },
  {
   "cell_type": "code",
   "execution_count": null,
   "metadata": {},
   "outputs": [],
   "source": []
  }
 ],
 "metadata": {
  "kernelspec": {
   "display_name": "Python 3",
   "language": "python",
   "name": "python3"
  },
  "language_info": {
   "codemirror_mode": {
    "name": "ipython",
    "version": 3
   },
   "file_extension": ".py",
   "mimetype": "text/x-python",
   "name": "python",
   "nbconvert_exporter": "python",
   "pygments_lexer": "ipython3",
   "version": "3.7.3"
  },
  "latex_envs": {
   "LaTeX_envs_menu_present": true,
   "autoclose": false,
   "autocomplete": true,
   "bibliofile": "biblio.bib",
   "cite_by": "apalike",
   "current_citInitial": 1,
   "eqLabelWithNumbers": true,
   "eqNumInitial": 1,
   "hotkeys": {
    "equation": "Ctrl-E",
    "itemize": "Ctrl-I"
   },
   "labels_anchors": false,
   "latex_user_defs": false,
   "report_style_numbering": false,
   "user_envs_cfg": false
  },
  "nbTranslate": {
   "displayLangs": [
    "*"
   ],
   "hotkey": "alt-t",
   "langInMainMenu": true,
   "sourceLang": "en",
   "targetLang": "fr",
   "useGoogleTranslate": true
  },
  "toc": {
   "base_numbering": 1,
   "nav_menu": {},
   "number_sections": true,
   "sideBar": true,
   "skip_h1_title": false,
   "title_cell": "Table of Contents",
   "title_sidebar": "Contents",
   "toc_cell": false,
   "toc_position": {},
   "toc_section_display": true,
   "toc_window_display": false
  }
 },
 "nbformat": 4,
 "nbformat_minor": 5
}
