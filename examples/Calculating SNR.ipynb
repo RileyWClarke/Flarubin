{
 "cells": [
  {
   "cell_type": "markdown",
   "metadata": {},
   "source": [
    "This ipython notebook demonstrates how to calculate photometric (optimal psf-weighted) SNR for sources observed with LSST. \n",
    "\n",
    "It uses the LSST [throughputs](https://github.com/lsst/throughputs) curves, together with the LSST [sims_photUtils](https://stash.lsstcorp.org/projects/SIM/repos/sims_photutils/browse) package, to calculate the SNR for any spectrum. \n",
    "\n",
    "With an eye toward turning this into a more generalized SNR calculator, an overview of the process (starting from the spectrum) is:\n",
    "* Set the desired magnitude (in a standardized throughput curve) for the source.\n",
    "* Generate the throughput curves in all filters, for the airmass desired.\n",
    "* Set the sky SED (for now we just use dark, zenith sky).\n",
    "* Calculate the SNR. \n",
    "\n",
    "---\n",
    "\n",
    "This notebook assumes that the `throughputs` and `sims_photUtils` packages have been installed and setup. We can then import the necessary packages:"
   ]
  },
  {
   "cell_type": "code",
   "execution_count": 1,
   "metadata": {},
   "outputs": [],
   "source": [
    "from __future__ import print_function\n",
    "import os\n",
    "import numpy as np\n",
    "%matplotlib inline\n",
    "import matplotlib.pyplot as plt\n",
    "import pandas as pd\n",
    "from lsst.sims.photUtils import Bandpass\n",
    "from lsst.sims.photUtils import Sed\n",
    "from lsst.sims.photUtils import SignalToNoise\n",
    "from lsst.sims.photUtils import PhotometricParameters"
   ]
  },
  {
   "cell_type": "markdown",
   "metadata": {},
   "source": [
    "---\n",
    "<b>Read in the spectra.</b> \n",
    "\n",
    "I put together a few SEDs that cover a fairly wide range: elliptical and spiral galaxies, blue and red stars, and a quasar. We'll read them all into `Sed` objects, and set the quasar to have a redshift of 3.5. These SEDS are available as a [tar ball](http://www.astro.washington.edu/users/lynnej/sample_seds.tar.gz). \n",
    "Wherever you place this directory, set `sedDir` to point to that location. "
   ]
  },
  {
   "cell_type": "code",
   "execution_count": 2,
   "metadata": {},
   "outputs": [
    {
     "name": "stdout",
     "output_type": "stream",
     "text": [
      "['Ell2_template_norm.sed.dat', 'Sa_template_norm.sed.dat', 'Sdm_template_norm.sed0.dat', 'km10_4500.fits_g45', 'km10_5250.fits_g45', 'km10_6000.fits_g45', 'km10_6500.fits_g45', 'km10_7250.fits_g45', 'm3.0Full.dat', 'quasar.dat']\n"
     ]
    }
   ],
   "source": [
    "sedDir = '/Users/lynnej/seds/sample_seds'\n",
    "filenames = !ls $sedDir\n",
    "print(filenames)"
   ]
  },
  {
   "cell_type": "code",
   "execution_count": 3,
   "metadata": {},
   "outputs": [],
   "source": [
    "# Now we'll read in each of those individual seds, into a Sed object. We'll also redshift the quasar.\n",
    "seds = {}\n",
    "z=3.5\n",
    "for s in filenames:\n",
    "    seds[s] = Sed()\n",
    "    seds[s].readSED_flambda(os.path.join(sedDir, s))\n",
    "if 'quasar.dat' in seds:\n",
    "    seds['quasar.dat'].redshiftSED(z)"
   ]
  },
  {
   "cell_type": "markdown",
   "metadata": {},
   "source": [
    "---\n",
    "<b>Read the standard throughput curves</b>.\n",
    "\n",
    "First, get the names of the directories containing the baseline throughput curves and a set of standard atmosphere curves at a range of airmass (also from the throughputs package). We'll also take a peek at the contents of these directories, in case you haven't seen them before."
   ]
  },
  {
   "cell_type": "code",
   "execution_count": 4,
   "metadata": {},
   "outputs": [
    {
     "name": "stdout",
     "output_type": "stream",
     "text": [
      "total 13392\r\n",
      "-rw-r--r--  1 lynnej  staff    1293 Aug 11 08:59 README.md\r\n",
      "-rw-r--r--  1 lynnej  staff    8325 Aug 11 08:59 README_SOURCE.md\r\n",
      "-rw-r--r--  1 lynnej  staff  315285 Aug 11 08:59 atmos_10.dat\r\n",
      "-rw-r--r--  1 lynnej  staff  307669 Aug 11 08:59 atmos_std.dat\r\n",
      "-rw-r--r--  1 lynnej  staff  170296 Aug 11 08:59 darksky.dat\r\n",
      "-rw-r--r--  1 lynnej  staff  304547 Aug 11 08:59 detector.dat\r\n",
      "-rw-r--r--  1 lynnej  staff  215802 Aug 11 08:59 filter_g.dat\r\n",
      "-rw-r--r--  1 lynnej  staff  211292 Aug 11 08:59 filter_i.dat\r\n",
      "-rw-r--r--  1 lynnej  staff  212956 Aug 11 08:59 filter_r.dat\r\n",
      "-rw-r--r--  1 lynnej  staff  204225 Aug 11 08:59 filter_u.dat\r\n",
      "-rw-r--r--  1 lynnej  staff  215739 Aug 11 08:59 filter_y.dat\r\n",
      "-rw-r--r--  1 lynnej  staff  209072 Aug 11 08:59 filter_z.dat\r\n",
      "-rw-r--r--  1 lynnej  staff  216504 Aug 11 08:59 hardware_g.dat\r\n",
      "-rw-r--r--  1 lynnej  staff  212797 Aug 11 08:59 hardware_i.dat\r\n",
      "-rw-r--r--  1 lynnej  staff  214235 Aug 11 08:59 hardware_r.dat\r\n",
      "-rw-r--r--  1 lynnej  staff  202460 Aug 11 08:59 hardware_u.dat\r\n",
      "-rw-r--r--  1 lynnej  staff  219056 Aug 11 08:59 hardware_y.dat\r\n",
      "-rw-r--r--  1 lynnej  staff  209622 Aug 11 08:59 hardware_z.dat\r\n",
      "-rw-r--r--  1 lynnej  staff  307631 Aug 11 08:59 lens1.dat\r\n",
      "-rw-r--r--  1 lynnej  staff  307493 Aug 11 08:59 lens2.dat\r\n",
      "-rw-r--r--  1 lynnej  staff  307509 Aug 11 08:59 lens3.dat\r\n",
      "-rw-r--r--  1 lynnej  staff  314890 Aug 11 08:59 m1.dat\r\n",
      "-rw-r--r--  1 lynnej  staff  314803 Aug 11 08:59 m2.dat\r\n",
      "-rw-r--r--  1 lynnej  staff  314890 Aug 11 08:59 m3.dat\r\n",
      "-rw-r--r--  1 lynnej  staff  216604 Aug 11 08:59 total_g.dat\r\n",
      "-rw-r--r--  1 lynnej  staff  212894 Aug 11 08:59 total_i.dat\r\n",
      "-rw-r--r--  1 lynnej  staff  214826 Aug 11 08:59 total_r.dat\r\n",
      "-rw-r--r--  1 lynnej  staff  202665 Aug 11 08:59 total_u.dat\r\n",
      "-rw-r--r--  1 lynnej  staff  219191 Aug 11 08:59 total_y.dat\r\n",
      "-rw-r--r--  1 lynnej  staff  209664 Aug 11 08:59 total_z.dat\r\n",
      "-rw-r--r--  1 lynnej  staff       4 Aug 11 08:59 version_info\r\n"
     ]
    }
   ],
   "source": [
    "throughputsDir = os.getenv('LSST_THROUGHPUTS_BASELINE')\n",
    "atmosDir = os.path.join(os.getenv('THROUGHPUTS_DIR'), 'atmos')\n",
    "!ls -l $throughputsDir\n",
    "#!ls -l $atmosDir\n",
    "filterlist = ('u', 'g', 'r', 'i', 'z', 'y')\n",
    "filtercolors = {'u':'b', 'g':'c', 'r':'g', 'i':'y', 'z':'r', 'y':'m'}"
   ]
  },
  {
   "cell_type": "markdown",
   "metadata": {},
   "source": [
    "Read in the set of throughput curves we'll use as our \"standard\". These are the 'standard' LSST total throughput curves and use an X=1.2 atmosphere (with aerosols) together with the standard hardware components (with time-average losses). "
   ]
  },
  {
   "cell_type": "code",
   "execution_count": 5,
   "metadata": {},
   "outputs": [],
   "source": [
    "lsst_std = {}\n",
    "for f in filterlist:\n",
    "    lsst_std[f] = Bandpass()\n",
    "    lsst_std[f].readThroughput(os.path.join(throughputsDir, 'total_'+f+'.dat'))"
   ]
  },
  {
   "cell_type": "markdown",
   "metadata": {},
   "source": [
    "---\n",
    "<b>Set the desired magnitude.</b>\n",
    "\n",
    "Use these standard throughput curves to set the desired magnitude for each SED in the desired reference bandpass. This is the step where the user decides the magnitude of the source they want to use to calculate SNR."
   ]
  },
  {
   "cell_type": "code",
   "execution_count": 6,
   "metadata": {},
   "outputs": [],
   "source": [
    "stdFilter = 'r'\n",
    "stdMag = 24.0\n",
    "for s in seds:\n",
    "    fluxNorm = seds[s].calcFluxNorm(stdMag, lsst_std[stdFilter])\n",
    "    seds[s].multiplyFluxNorm(fluxNorm)"
   ]
  },
  {
   "cell_type": "markdown",
   "metadata": {},
   "source": [
    "Pretty plot #1: plot the SEDs."
   ]
  },
  {
   "cell_type": "code",
   "execution_count": 7,
   "metadata": {},
   "outputs": [
    {
     "data": {
      "text/plain": [
       "<matplotlib.legend.Legend at 0xb231b6da0>"
      ]
     },
     "execution_count": 7,
     "metadata": {},
     "output_type": "execute_result"
    },
    {
     "data": {
      "image/png": "[encoded data removed]",
      "text/plain": [
       "<Figure size 432x288 with 1 Axes>"
      ]
     },
     "metadata": {
      "needs_background": "light"
     },
     "output_type": "display_data"
    }
   ],
   "source": [
    "for s in seds:\n",
    "    plt.plot(seds[s].wavelen, seds[s].flambda*seds[s].wavelen, label='%s' %(s))\n",
    "plt.xlabel('Wavelength (nm)')\n",
    "plt.ylabel('$\\lambda F_\\lambda$')\n",
    "plt.xlim(300, 1100)\n",
    "plt.legend(loc=(0.98, 0.2), fontsize='smaller', numpoints=1, fancybox=True)"
   ]
  },
  {
   "cell_type": "markdown",
   "metadata": {},
   "source": [
    "---\n",
    "<b>Read in the (non-standard) throughput components</b>\n",
    "\n",
    "Read in the various components that we will need, in order to generate the non-standard throughput curves at arbitrary airmass. \n",
    "First, the system hardware throughput components, as we will need the hardware alone to calculate SNR anyway. (see [note (1)](#hardware_sky) below for more information). "
   ]
  },
  {
   "cell_type": "code",
   "execution_count": 8,
   "metadata": {},
   "outputs": [],
   "source": [
    "lsst_system = {}\n",
    "for f in filterlist:\n",
    "    lsst_system[f] = Bandpass()\n",
    "    lsst_system[f].readThroughputList(['detector.dat', 'lens1.dat', 'lens2.dat', 'lens3.dat', \n",
    "                                       'm1.dat', 'm2.dat', 'm3.dat', 'filter_'+f+'.dat'], \n",
    "                                        rootDir=throughputsDir)"
   ]
  },
  {
   "cell_type": "markdown",
   "metadata": {},
   "source": [
    "Then read in the atmosphere, so we can multiply it into the system hardware throughputs. This lets us generate the total throughput curves, using a wider variety of atmosphere curves at varying airmass. (The standard total throughput curves use X=1.2, for now we'll use X=1.0 here)."
   ]
  },
  {
   "cell_type": "code",
   "execution_count": 9,
   "metadata": {},
   "outputs": [],
   "source": [
    "atmosphere = Bandpass()\n",
    "X = 1.0\n",
    "atmosphere.readThroughput(os.path.join(atmosDir, 'atmos_%d.dat' %(X*10)))"
   ]
  },
  {
   "cell_type": "markdown",
   "metadata": {},
   "source": [
    "Calculate the total (non-standard) throughput curves, including the atmosphere. "
   ]
  },
  {
   "cell_type": "code",
   "execution_count": 10,
   "metadata": {},
   "outputs": [],
   "source": [
    "lsst_total = {}\n",
    "for f in filterlist:\n",
    "    wavelen, sb = lsst_system[f].multiplyThroughputs(atmosphere.wavelen, atmosphere.sb)\n",
    "    lsst_total[f] = Bandpass(wavelen=wavelen, sb=sb)"
   ]
  },
  {
   "cell_type": "markdown",
   "metadata": {},
   "source": [
    "Pretty plot #2, plot the throughput curves + atmosphere.  The dotted lines are the hardware-only throughputs, the solid lines are total system throughputs including atmosphere."
   ]
  },
  {
   "cell_type": "code",
   "execution_count": 12,
   "metadata": {},
   "outputs": [
    {
     "data": {
      "text/plain": [
       "Text(0.5, 1.0, 'System throughput')"
      ]
     },
     "execution_count": 12,
     "metadata": {},
     "output_type": "execute_result"
    },
    {
     "data": {
      "image/png": "[encoded data removed]",
      "text/plain": [
       "<Figure size 576x432 with 1 Axes>"
      ]
     },
     "metadata": {
      "needs_background": "light"
     },
     "output_type": "display_data"
    }
   ],
   "source": [
    "plt.figure(figsize=(8,6))\n",
    "for f in filterlist:\n",
    "    plt.plot(lsst_total[f].wavelen, lsst_total[f].sb,  linestyle='-', color=filtercolors[f], label='%s' %(f))\n",
    "    plt.plot(lsst_system[f].wavelen, lsst_system[f].sb, linestyle=':', color=filtercolors[f])\n",
    "plt.plot(atmosphere.wavelen, atmosphere.sb, 'k:', label='X =%.1f atmos' %(X))\n",
    "plt.legend(loc=(0.85, 0.5), fontsize='smaller', fancybox=True, numpoints=1)\n",
    "plt.xlabel('Wavelength (nm)')\n",
    "plt.ylabel('Sb (0-1)')\n",
    "plt.title('System throughput')"
   ]
  },
  {
   "cell_type": "markdown",
   "metadata": {},
   "source": [
    "---\n",
    "<b>Calculate SNR</b>"
   ]
  },
  {
   "cell_type": "markdown",
   "metadata": {},
   "source": [
    "The SNR of a source depends on the sky background, as well as properties of the telescope and camera. We can use the default values for LSST telescope and camera properties automatically. At the moment, the only sky spectrum we have easily available is the dark sky zenith spectrum, from the [$LSST_THROUGHPUTS_BASELINE/darksky.dat](https://github.com/lsst/throughputs/blob/master/baseline/darksky.dat) file. This spectra is calibrated to have the appropriate magnitudes in the LSST bandpasses under dark sky, zenith conditions."
   ]
  },
  {
   "cell_type": "code",
   "execution_count": 13,
   "metadata": {},
   "outputs": [],
   "source": [
    "darksky = Sed()\n",
    "darksky.readSED_flambda(os.path.join(throughputsDir, 'darksky.dat'))"
   ]
  },
  {
   "cell_type": "markdown",
   "metadata": {},
   "source": [
    "Calculate the SNR, assuming optimal measurement over the PSF. This means we can choose the PSF as well.<br>\n",
    "`Sed` method `calcSNR_psf` accepts an instantiation of the `PhotometricParameters` class, which carries values for readnoise, platescale, gain, number of exposures, etc, set to defaults appropriate for general LSST purposes (and assuming 30 second visits, consisting of two 15 second exposures). "
   ]
  },
  {
   "cell_type": "code",
   "execution_count": 14,
   "metadata": {},
   "outputs": [],
   "source": [
    "# Set up the photometric parameters for LSST\n",
    "photParams = PhotometricParameters(gain=1)\n",
    "# Set up the seeing. \"seeing\" traditional = FWHMgeom in our terms \n",
    "#  (i.e. the physical size of a double-gaussian or von Karman PSF)\n",
    "# But we use the equivalent FWHM of a single gaussian in the SNR calculation, so convert.\n",
    "seeing = 0.7\n",
    "FWHMeff = SignalToNoise.FWHMgeom2FWHMeff(seeing)"
   ]
  },
  {
   "cell_type": "code",
   "execution_count": 15,
   "metadata": {},
   "outputs": [
    {
     "name": "stdout",
     "output_type": "stream",
     "text": [
      "SNR in r band\n",
      "For Nexp 2.0 of time 15.0: \n",
      "Counts from source: 1409.41  Counts from sky: 809.73\n",
      "FWHMeff: 0.79('')  Neff pixels: 35.205(pix)\n",
      "Noise from sky: 28.46 Noise from instrument: 12.68\n",
      "Noise from source: 37.54\n",
      " Total Signal: 1409.41   Total Noise: 188.63    SNR: 7.47\n",
      "\n",
      "SNR in z band\n",
      "For Nexp 2.0 of time 15.0: \n",
      "Counts from source: 3652.37  Counts from sky: 1713.37\n",
      "FWHMeff: 0.79('')  Neff pixels: 35.205(pix)\n",
      "Noise from sky: 41.39 Noise from instrument: 12.68\n",
      "Noise from source: 60.43\n",
      " Total Signal: 3652.37   Total Noise: 263.89    SNR: 13.84\n"
     ]
    }
   ],
   "source": [
    "# We can investigate the SNR calculation a little closer for a single object, let's use the Mdwarf.\n",
    "s = 'm3.0Full.dat'\n",
    "f = 'r'\n",
    "print(\"SNR in %s band\" % f)\n",
    "_ = SignalToNoise.calcSNR_sed(seds[s], lsst_total[f], darksky, lsst_system[f], photParams, FWHMeff, verbose=True)\n",
    "print('')\n",
    "f = 'z'\n",
    "print(\"SNR in %s band\" % f)\n",
    "_ = SignalToNoise.calcSNR_sed(seds[s], lsst_total[f], darksky, lsst_system[f], photParams, FWHMeff, verbose=True)"
   ]
  },
  {
   "cell_type": "code",
   "execution_count": 16,
   "metadata": {},
   "outputs": [
    {
     "data": {
      "text/html": [
       "<div>\n",
       "<style scoped>\n",
       "    .dataframe tbody tr th:only-of-type {\n",
       "        vertical-align: middle;\n",
       "    }\n",
       "\n",
       "    .dataframe tbody tr th {\n",
       "        vertical-align: top;\n",
       "    }\n",
       "\n",
       "    .dataframe thead th {\n",
       "        text-align: right;\n",
       "    }\n",
       "</style>\n",
       "<table border=\"1\" class=\"dataframe\">\n",
       "  <thead>\n",
       "    <tr style=\"text-align: right;\">\n",
       "      <th></th>\n",
       "      <th>u</th>\n",
       "      <th>g</th>\n",
       "      <th>r</th>\n",
       "      <th>i</th>\n",
       "      <th>z</th>\n",
       "      <th>y</th>\n",
       "    </tr>\n",
       "  </thead>\n",
       "  <tbody>\n",
       "    <tr>\n",
       "      <th>Ell2_template_norm.sed.dat</th>\n",
       "      <td>1.03</td>\n",
       "      <td>7.62</td>\n",
       "      <td>7.48</td>\n",
       "      <td>5.81</td>\n",
       "      <td>3.79</td>\n",
       "      <td>1.83</td>\n",
       "    </tr>\n",
       "    <tr>\n",
       "      <th>Sa_template_norm.sed.dat</th>\n",
       "      <td>0.611</td>\n",
       "      <td>6.13</td>\n",
       "      <td>7.48</td>\n",
       "      <td>6.6</td>\n",
       "      <td>4.9</td>\n",
       "      <td>2.59</td>\n",
       "    </tr>\n",
       "    <tr>\n",
       "      <th>Sdm_template_norm.sed0.dat</th>\n",
       "      <td>1.56</td>\n",
       "      <td>8.3</td>\n",
       "      <td>7.48</td>\n",
       "      <td>5.94</td>\n",
       "      <td>4.12</td>\n",
       "      <td>2.1</td>\n",
       "    </tr>\n",
       "    <tr>\n",
       "      <th>km10_4500.fits_g45</th>\n",
       "      <td>0.419</td>\n",
       "      <td>5.59</td>\n",
       "      <td>7.48</td>\n",
       "      <td>6.44</td>\n",
       "      <td>4.22</td>\n",
       "      <td>1.99</td>\n",
       "    </tr>\n",
       "    <tr>\n",
       "      <th>km10_5250.fits_g45</th>\n",
       "      <td>1.01</td>\n",
       "      <td>7.29</td>\n",
       "      <td>7.48</td>\n",
       "      <td>5.75</td>\n",
       "      <td>3.5</td>\n",
       "      <td>1.56</td>\n",
       "    </tr>\n",
       "    <tr>\n",
       "      <th>km10_6000.fits_g45</th>\n",
       "      <td>1.71</td>\n",
       "      <td>8.69</td>\n",
       "      <td>7.48</td>\n",
       "      <td>5.32</td>\n",
       "      <td>3.08</td>\n",
       "      <td>1.31</td>\n",
       "    </tr>\n",
       "    <tr>\n",
       "      <th>km10_6500.fits_g45</th>\n",
       "      <td>2.05</td>\n",
       "      <td>9.55</td>\n",
       "      <td>7.49</td>\n",
       "      <td>5.08</td>\n",
       "      <td>2.85</td>\n",
       "      <td>1.19</td>\n",
       "    </tr>\n",
       "    <tr>\n",
       "      <th>km10_7250.fits_g45</th>\n",
       "      <td>2.37</td>\n",
       "      <td>10.8</td>\n",
       "      <td>7.49</td>\n",
       "      <td>4.75</td>\n",
       "      <td>2.55</td>\n",
       "      <td>1.05</td>\n",
       "    </tr>\n",
       "    <tr>\n",
       "      <th>m3.0Full.dat</th>\n",
       "      <td>0.203</td>\n",
       "      <td>3.5</td>\n",
       "      <td>7.47</td>\n",
       "      <td>14.5</td>\n",
       "      <td>13.8</td>\n",
       "      <td>7.21</td>\n",
       "    </tr>\n",
       "    <tr>\n",
       "      <th>quasar.dat</th>\n",
       "      <td>0.538</td>\n",
       "      <td>6.29</td>\n",
       "      <td>7.49</td>\n",
       "      <td>5.48</td>\n",
       "      <td>3.34</td>\n",
       "      <td>1.37</td>\n",
       "    </tr>\n",
       "  </tbody>\n",
       "</table>\n",
       "</div>"
      ],
      "text/plain": [
       "                                u     g     r     i     z     y\n",
       "Ell2_template_norm.sed.dat   1.03  7.62  7.48  5.81  3.79  1.83\n",
       "Sa_template_norm.sed.dat    0.611  6.13  7.48   6.6   4.9  2.59\n",
       "Sdm_template_norm.sed0.dat   1.56   8.3  7.48  5.94  4.12   2.1\n",
       "km10_4500.fits_g45          0.419  5.59  7.48  6.44  4.22  1.99\n",
       "km10_5250.fits_g45           1.01  7.29  7.48  5.75   3.5  1.56\n",
       "km10_6000.fits_g45           1.71  8.69  7.48  5.32  3.08  1.31\n",
       "km10_6500.fits_g45           2.05  9.55  7.49  5.08  2.85  1.19\n",
       "km10_7250.fits_g45           2.37  10.8  7.49  4.75  2.55  1.05\n",
       "m3.0Full.dat                0.203   3.5  7.47  14.5  13.8  7.21\n",
       "quasar.dat                  0.538  6.29  7.49  5.48  3.34  1.37"
      ]
     },
     "metadata": {},
     "output_type": "display_data"
    }
   ],
   "source": [
    "# Calculate SNR for all seds in all filters.\n",
    "snr = pd.DataFrame(index=seds, columns=filterlist)\n",
    "for i, s in enumerate(seds):\n",
    "    for f in filterlist:\n",
    "        snr.iloc[i][f] = SignalToNoise.calcSNR_sed(seds[s], lsst_total[f], darksky, lsst_system[f], \n",
    "                                                   photParams, FWHMeff=FWHMeff, verbose=False)\n",
    "pd.set_option('precision', 3)\n",
    "display(snr)"
   ]
  },
  {
   "cell_type": "markdown",
   "metadata": {},
   "source": [
    "Note that the SNR in the r band is the same for all of these objects. This makes sense, as we normalized them all to have the same r band standard magnitudes, and the X=1.0 atmosphere is not hugely different from the X=1.2 standard throughput curves.  However, their SNR in other bandpasses can be quite different depending on the SED of the source. "
   ]
  },
  {
   "cell_type": "markdown",
   "metadata": {},
   "source": [
    "---\n",
    "And it's a bit of a hack, but we could make the same calculation for different sky background values, by scaling the dark sky SED to have different expected magnitudes (i.e. adjust the darksky SED to create different sky brightness). With the upcoming sky brightness code (in progress [here](http://github.com/lsst/sims_skybrightness)), we could use the actual sky SED for any conditions.\n",
    "\n",
    "<a name='hardware_sky'>(1)</a> Notice that I use lsst_system throughputs here, not lsst_total. This is because the sky magnitudes must be calculated using the *system* only, not including the atmosphere. The sky brightness is generated at various points throughout the atmosphere, so should not be propagated through the entire atmosphere when calculating the transmission to the focal plane (unlike sources above the atmosphere). Without doing proper radiative transfer to determine the atmosphere and sky brightness to use, the next best thing is to just use the system minus the atmosphere, and atmosphere-corrected/telescope pupil skybrightness measurements (which are what are usually reported). This is also why we needed to pass the system only throughput curves to calcSNR_sed. "
   ]
  },
  {
   "cell_type": "code",
   "execution_count": 17,
   "metadata": {},
   "outputs": [
    {
     "name": "stdout",
     "output_type": "stream",
     "text": [
      "u 22.988640526139378\n",
      "g 22.256460844980268\n",
      "r 21.19621923005915\n",
      "i 20.477858428533015\n",
      "z 19.599676728581212\n",
      "y 18.61181054145898\n"
     ]
    }
   ],
   "source": [
    "for f in filterlist:\n",
    "    print(f, darksky.calcMag(lsst_system[f]))"
   ]
  },
  {
   "cell_type": "code",
   "execution_count": 18,
   "metadata": {},
   "outputs": [
    {
     "name": "stdout",
     "output_type": "stream",
     "text": [
      "u 22.292421296080224\n",
      "g 21.560241614921118\n",
      "r 20.5\n",
      "i 19.781639198473865\n",
      "z 18.903457498522062\n",
      "y 17.91559131139983\n"
     ]
    }
   ],
   "source": [
    "newSkyMag = 20.5\n",
    "newSkyFilter = 'r'\n",
    "fluxNorm = darksky.calcFluxNorm(newSkyMag, lsst_system[newSkyFilter])\n",
    "darksky.multiplyFluxNorm(fluxNorm)\n",
    "for f in filterlist:\n",
    "    print(f, darksky.calcMag(lsst_system[f]))"
   ]
  },
  {
   "cell_type": "code",
   "execution_count": 19,
   "metadata": {},
   "outputs": [
    {
     "data": {
      "text/html": [
       "<div>\n",
       "<style scoped>\n",
       "    .dataframe tbody tr th:only-of-type {\n",
       "        vertical-align: middle;\n",
       "    }\n",
       "\n",
       "    .dataframe tbody tr th {\n",
       "        vertical-align: top;\n",
       "    }\n",
       "\n",
       "    .dataframe thead th {\n",
       "        text-align: right;\n",
       "    }\n",
       "</style>\n",
       "<table border=\"1\" class=\"dataframe\">\n",
       "  <thead>\n",
       "    <tr style=\"text-align: right;\">\n",
       "      <th></th>\n",
       "      <th>u</th>\n",
       "      <th>g</th>\n",
       "      <th>r</th>\n",
       "      <th>i</th>\n",
       "      <th>z</th>\n",
       "      <th>y</th>\n",
       "    </tr>\n",
       "  </thead>\n",
       "  <tbody>\n",
       "    <tr>\n",
       "      <th>Ell2_template_norm.sed.dat</th>\n",
       "      <td>0.912</td>\n",
       "      <td>6</td>\n",
       "      <td>5.71</td>\n",
       "      <td>4.37</td>\n",
       "      <td>2.82</td>\n",
       "      <td>1.35</td>\n",
       "    </tr>\n",
       "    <tr>\n",
       "      <th>Sa_template_norm.sed.dat</th>\n",
       "      <td>0.542</td>\n",
       "      <td>4.83</td>\n",
       "      <td>5.7</td>\n",
       "      <td>4.97</td>\n",
       "      <td>3.65</td>\n",
       "      <td>1.91</td>\n",
       "    </tr>\n",
       "    <tr>\n",
       "      <th>Sdm_template_norm.sed0.dat</th>\n",
       "      <td>1.39</td>\n",
       "      <td>6.55</td>\n",
       "      <td>5.71</td>\n",
       "      <td>4.47</td>\n",
       "      <td>3.06</td>\n",
       "      <td>1.55</td>\n",
       "    </tr>\n",
       "    <tr>\n",
       "      <th>km10_4500.fits_g45</th>\n",
       "      <td>0.372</td>\n",
       "      <td>4.39</td>\n",
       "      <td>5.7</td>\n",
       "      <td>4.85</td>\n",
       "      <td>3.14</td>\n",
       "      <td>1.47</td>\n",
       "    </tr>\n",
       "    <tr>\n",
       "      <th>km10_5250.fits_g45</th>\n",
       "      <td>0.897</td>\n",
       "      <td>5.74</td>\n",
       "      <td>5.71</td>\n",
       "      <td>4.33</td>\n",
       "      <td>2.6</td>\n",
       "      <td>1.15</td>\n",
       "    </tr>\n",
       "    <tr>\n",
       "      <th>km10_6000.fits_g45</th>\n",
       "      <td>1.52</td>\n",
       "      <td>6.86</td>\n",
       "      <td>5.71</td>\n",
       "      <td>4</td>\n",
       "      <td>2.29</td>\n",
       "      <td>0.969</td>\n",
       "    </tr>\n",
       "    <tr>\n",
       "      <th>km10_6500.fits_g45</th>\n",
       "      <td>1.83</td>\n",
       "      <td>7.55</td>\n",
       "      <td>5.71</td>\n",
       "      <td>3.82</td>\n",
       "      <td>2.12</td>\n",
       "      <td>0.881</td>\n",
       "    </tr>\n",
       "    <tr>\n",
       "      <th>km10_7250.fits_g45</th>\n",
       "      <td>2.11</td>\n",
       "      <td>8.52</td>\n",
       "      <td>5.71</td>\n",
       "      <td>3.57</td>\n",
       "      <td>1.89</td>\n",
       "      <td>0.775</td>\n",
       "    </tr>\n",
       "    <tr>\n",
       "      <th>m3.0Full.dat</th>\n",
       "      <td>0.18</td>\n",
       "      <td>2.74</td>\n",
       "      <td>5.7</td>\n",
       "      <td>11</td>\n",
       "      <td>10.4</td>\n",
       "      <td>5.34</td>\n",
       "    </tr>\n",
       "    <tr>\n",
       "      <th>quasar.dat</th>\n",
       "      <td>0.478</td>\n",
       "      <td>4.95</td>\n",
       "      <td>5.71</td>\n",
       "      <td>4.12</td>\n",
       "      <td>2.48</td>\n",
       "      <td>1.01</td>\n",
       "    </tr>\n",
       "  </tbody>\n",
       "</table>\n",
       "</div>"
      ],
      "text/plain": [
       "                                u     g     r     i     z      y\n",
       "Ell2_template_norm.sed.dat  0.912     6  5.71  4.37  2.82   1.35\n",
       "Sa_template_norm.sed.dat    0.542  4.83   5.7  4.97  3.65   1.91\n",
       "Sdm_template_norm.sed0.dat   1.39  6.55  5.71  4.47  3.06   1.55\n",
       "km10_4500.fits_g45          0.372  4.39   5.7  4.85  3.14   1.47\n",
       "km10_5250.fits_g45          0.897  5.74  5.71  4.33   2.6   1.15\n",
       "km10_6000.fits_g45           1.52  6.86  5.71     4  2.29  0.969\n",
       "km10_6500.fits_g45           1.83  7.55  5.71  3.82  2.12  0.881\n",
       "km10_7250.fits_g45           2.11  8.52  5.71  3.57  1.89  0.775\n",
       "m3.0Full.dat                 0.18  2.74   5.7    11  10.4   5.34\n",
       "quasar.dat                  0.478  4.95  5.71  4.12  2.48   1.01"
      ]
     },
     "metadata": {},
     "output_type": "display_data"
    }
   ],
   "source": [
    "# Calculate SNR with varied sky brightness\n",
    "photParams = PhotometricParameters()\n",
    "seeing = 0.7\n",
    "FWHMeff = SignalToNoise.FWHMgeom2FWHMeff(seeing)\n",
    "snr = pd.DataFrame(index=seds, columns=filterlist)\n",
    "for i, s in enumerate(seds):\n",
    "    for f in filterlist:\n",
    "        snr.iloc[i][f] = SignalToNoise.calcSNR_sed(seds[s], lsst_total[f], darksky, lsst_system[f], \n",
    "                                              photParams, FWHMeff=FWHMeff, verbose=False)\n",
    "display(snr)"
   ]
  },
  {
   "cell_type": "code",
   "execution_count": 20,
   "metadata": {},
   "outputs": [
    {
     "data": {
      "text/html": [
       "<div>\n",
       "<style scoped>\n",
       "    .dataframe tbody tr th:only-of-type {\n",
       "        vertical-align: middle;\n",
       "    }\n",
       "\n",
       "    .dataframe tbody tr th {\n",
       "        vertical-align: top;\n",
       "    }\n",
       "\n",
       "    .dataframe thead th {\n",
       "        text-align: right;\n",
       "    }\n",
       "</style>\n",
       "<table border=\"1\" class=\"dataframe\">\n",
       "  <thead>\n",
       "    <tr style=\"text-align: right;\">\n",
       "      <th></th>\n",
       "      <th>u</th>\n",
       "      <th>g</th>\n",
       "      <th>r</th>\n",
       "      <th>i</th>\n",
       "      <th>z</th>\n",
       "      <th>y</th>\n",
       "    </tr>\n",
       "  </thead>\n",
       "  <tbody>\n",
       "    <tr>\n",
       "      <th>Ell2_template_norm.sed.dat</th>\n",
       "      <td>0.516</td>\n",
       "      <td>3.43</td>\n",
       "      <td>3.25</td>\n",
       "      <td>2.48</td>\n",
       "      <td>1.6</td>\n",
       "      <td>0.763</td>\n",
       "    </tr>\n",
       "    <tr>\n",
       "      <th>Sa_template_norm.sed.dat</th>\n",
       "      <td>0.307</td>\n",
       "      <td>2.75</td>\n",
       "      <td>3.25</td>\n",
       "      <td>2.82</td>\n",
       "      <td>2.07</td>\n",
       "      <td>1.08</td>\n",
       "    </tr>\n",
       "    <tr>\n",
       "      <th>Sdm_template_norm.sed0.dat</th>\n",
       "      <td>0.788</td>\n",
       "      <td>3.74</td>\n",
       "      <td>3.25</td>\n",
       "      <td>2.53</td>\n",
       "      <td>1.73</td>\n",
       "      <td>0.875</td>\n",
       "    </tr>\n",
       "    <tr>\n",
       "      <th>km10_4500.fits_g45</th>\n",
       "      <td>0.21</td>\n",
       "      <td>2.5</td>\n",
       "      <td>3.25</td>\n",
       "      <td>2.75</td>\n",
       "      <td>1.78</td>\n",
       "      <td>0.829</td>\n",
       "    </tr>\n",
       "    <tr>\n",
       "      <th>km10_5250.fits_g45</th>\n",
       "      <td>0.508</td>\n",
       "      <td>3.28</td>\n",
       "      <td>3.25</td>\n",
       "      <td>2.45</td>\n",
       "      <td>1.47</td>\n",
       "      <td>0.649</td>\n",
       "    </tr>\n",
       "    <tr>\n",
       "      <th>km10_6000.fits_g45</th>\n",
       "      <td>0.861</td>\n",
       "      <td>3.92</td>\n",
       "      <td>3.25</td>\n",
       "      <td>2.27</td>\n",
       "      <td>1.29</td>\n",
       "      <td>0.548</td>\n",
       "    </tr>\n",
       "    <tr>\n",
       "      <th>km10_6500.fits_g45</th>\n",
       "      <td>1.04</td>\n",
       "      <td>4.32</td>\n",
       "      <td>3.25</td>\n",
       "      <td>2.17</td>\n",
       "      <td>1.2</td>\n",
       "      <td>0.498</td>\n",
       "    </tr>\n",
       "    <tr>\n",
       "      <th>km10_7250.fits_g45</th>\n",
       "      <td>1.2</td>\n",
       "      <td>4.89</td>\n",
       "      <td>3.25</td>\n",
       "      <td>2.02</td>\n",
       "      <td>1.07</td>\n",
       "      <td>0.438</td>\n",
       "    </tr>\n",
       "    <tr>\n",
       "      <th>m3.0Full.dat</th>\n",
       "      <td>0.102</td>\n",
       "      <td>1.56</td>\n",
       "      <td>3.24</td>\n",
       "      <td>6.29</td>\n",
       "      <td>5.92</td>\n",
       "      <td>3.03</td>\n",
       "    </tr>\n",
       "    <tr>\n",
       "      <th>quasar.dat</th>\n",
       "      <td>0.27</td>\n",
       "      <td>2.82</td>\n",
       "      <td>3.25</td>\n",
       "      <td>2.34</td>\n",
       "      <td>1.4</td>\n",
       "      <td>0.569</td>\n",
       "    </tr>\n",
       "  </tbody>\n",
       "</table>\n",
       "</div>"
      ],
      "text/plain": [
       "                                u     g     r     i     z      y\n",
       "Ell2_template_norm.sed.dat  0.516  3.43  3.25  2.48   1.6  0.763\n",
       "Sa_template_norm.sed.dat    0.307  2.75  3.25  2.82  2.07   1.08\n",
       "Sdm_template_norm.sed0.dat  0.788  3.74  3.25  2.53  1.73  0.875\n",
       "km10_4500.fits_g45           0.21   2.5  3.25  2.75  1.78  0.829\n",
       "km10_5250.fits_g45          0.508  3.28  3.25  2.45  1.47  0.649\n",
       "km10_6000.fits_g45          0.861  3.92  3.25  2.27  1.29  0.548\n",
       "km10_6500.fits_g45           1.04  4.32  3.25  2.17   1.2  0.498\n",
       "km10_7250.fits_g45            1.2  4.89  3.25  2.02  1.07  0.438\n",
       "m3.0Full.dat                0.102  1.56  3.24  6.29  5.92   3.03\n",
       "quasar.dat                   0.27  2.82  3.25  2.34   1.4  0.569"
      ]
     },
     "metadata": {},
     "output_type": "display_data"
    }
   ],
   "source": [
    "# Vary the seeing (with this new sky background)\n",
    "photParams = PhotometricParameters()\n",
    "seeing = 1.2\n",
    "FWHMeff = SignalToNoise.FWHMgeom2FWHMeff(seeing)\n",
    "for i, s in enumerate(seds):\n",
    "    for f in filterlist:\n",
    "        snr.iloc[i][f] = SignalToNoise.calcSNR_sed(seds[s], lsst_total[f], darksky, lsst_system[f], \n",
    "                                              photParams, FWHMeff=FWHMeff, verbose=False)\n",
    "display(snr)"
   ]
  },
  {
   "cell_type": "code",
   "execution_count": 21,
   "metadata": {},
   "outputs": [
    {
     "name": "stdout",
     "output_type": "stream",
     "text": [
      "8.8\n"
     ]
    },
    {
     "data": {
      "text/html": [
       "<div>\n",
       "<style scoped>\n",
       "    .dataframe tbody tr th:only-of-type {\n",
       "        vertical-align: middle;\n",
       "    }\n",
       "\n",
       "    .dataframe tbody tr th {\n",
       "        vertical-align: top;\n",
       "    }\n",
       "\n",
       "    .dataframe thead th {\n",
       "        text-align: right;\n",
       "    }\n",
       "</style>\n",
       "<table border=\"1\" class=\"dataframe\">\n",
       "  <thead>\n",
       "    <tr style=\"text-align: right;\">\n",
       "      <th></th>\n",
       "      <th>u</th>\n",
       "      <th>g</th>\n",
       "      <th>r</th>\n",
       "      <th>i</th>\n",
       "      <th>z</th>\n",
       "      <th>y</th>\n",
       "    </tr>\n",
       "  </thead>\n",
       "  <tbody>\n",
       "    <tr>\n",
       "      <th>Ell2_template_norm.sed.dat</th>\n",
       "      <td>0.321</td>\n",
       "      <td>2.8</td>\n",
       "      <td>2.88</td>\n",
       "      <td>2.26</td>\n",
       "      <td>1.5</td>\n",
       "      <td>0.726</td>\n",
       "    </tr>\n",
       "    <tr>\n",
       "      <th>Sa_template_norm.sed.dat</th>\n",
       "      <td>0.191</td>\n",
       "      <td>2.25</td>\n",
       "      <td>2.88</td>\n",
       "      <td>2.58</td>\n",
       "      <td>1.94</td>\n",
       "      <td>1.03</td>\n",
       "    </tr>\n",
       "    <tr>\n",
       "      <th>Sdm_template_norm.sed0.dat</th>\n",
       "      <td>0.49</td>\n",
       "      <td>3.06</td>\n",
       "      <td>2.88</td>\n",
       "      <td>2.32</td>\n",
       "      <td>1.63</td>\n",
       "      <td>0.833</td>\n",
       "    </tr>\n",
       "    <tr>\n",
       "      <th>km10_4500.fits_g45</th>\n",
       "      <td>0.131</td>\n",
       "      <td>2.04</td>\n",
       "      <td>2.88</td>\n",
       "      <td>2.51</td>\n",
       "      <td>1.67</td>\n",
       "      <td>0.789</td>\n",
       "    </tr>\n",
       "    <tr>\n",
       "      <th>km10_5250.fits_g45</th>\n",
       "      <td>0.316</td>\n",
       "      <td>2.68</td>\n",
       "      <td>2.88</td>\n",
       "      <td>2.24</td>\n",
       "      <td>1.38</td>\n",
       "      <td>0.618</td>\n",
       "    </tr>\n",
       "    <tr>\n",
       "      <th>km10_6000.fits_g45</th>\n",
       "      <td>0.536</td>\n",
       "      <td>3.21</td>\n",
       "      <td>2.88</td>\n",
       "      <td>2.07</td>\n",
       "      <td>1.21</td>\n",
       "      <td>0.521</td>\n",
       "    </tr>\n",
       "    <tr>\n",
       "      <th>km10_6500.fits_g45</th>\n",
       "      <td>0.646</td>\n",
       "      <td>3.53</td>\n",
       "      <td>2.88</td>\n",
       "      <td>1.98</td>\n",
       "      <td>1.12</td>\n",
       "      <td>0.474</td>\n",
       "    </tr>\n",
       "    <tr>\n",
       "      <th>km10_7250.fits_g45</th>\n",
       "      <td>0.748</td>\n",
       "      <td>4</td>\n",
       "      <td>2.88</td>\n",
       "      <td>1.85</td>\n",
       "      <td>1</td>\n",
       "      <td>0.417</td>\n",
       "    </tr>\n",
       "    <tr>\n",
       "      <th>m3.0Full.dat</th>\n",
       "      <td>0.0633</td>\n",
       "      <td>1.27</td>\n",
       "      <td>2.87</td>\n",
       "      <td>5.75</td>\n",
       "      <td>5.56</td>\n",
       "      <td>2.89</td>\n",
       "    </tr>\n",
       "    <tr>\n",
       "      <th>quasar.dat</th>\n",
       "      <td>0.168</td>\n",
       "      <td>2.3</td>\n",
       "      <td>2.88</td>\n",
       "      <td>2.14</td>\n",
       "      <td>1.32</td>\n",
       "      <td>0.542</td>\n",
       "    </tr>\n",
       "  </tbody>\n",
       "</table>\n",
       "</div>"
      ],
      "text/plain": [
       "                                 u     g     r     i     z      y\n",
       "Ell2_template_norm.sed.dat   0.321   2.8  2.88  2.26   1.5  0.726\n",
       "Sa_template_norm.sed.dat     0.191  2.25  2.88  2.58  1.94   1.03\n",
       "Sdm_template_norm.sed0.dat    0.49  3.06  2.88  2.32  1.63  0.833\n",
       "km10_4500.fits_g45           0.131  2.04  2.88  2.51  1.67  0.789\n",
       "km10_5250.fits_g45           0.316  2.68  2.88  2.24  1.38  0.618\n",
       "km10_6000.fits_g45           0.536  3.21  2.88  2.07  1.21  0.521\n",
       "km10_6500.fits_g45           0.646  3.53  2.88  1.98  1.12  0.474\n",
       "km10_7250.fits_g45           0.748     4  2.88  1.85     1  0.417\n",
       "m3.0Full.dat                0.0633  1.27  2.87  5.75  5.56   2.89\n",
       "quasar.dat                   0.168   2.3  2.88  2.14  1.32  0.542"
      ]
     },
     "metadata": {},
     "output_type": "display_data"
    }
   ],
   "source": [
    "# Or vary the readnoise (for example) -- notice biggest effect in u band\n",
    "old_readnoise = photParams.readnoise\n",
    "print(old_readnoise)\n",
    "photParams = PhotometricParameters(readnoise=old_readnoise*2)\n",
    "seeing = 1.2\n",
    "FWHMeff = SignalToNoise.FWHMgeom2FWHMeff(seeing)\n",
    "for i, s in enumerate(seds):\n",
    "    for f in filterlist:\n",
    "        snr.iloc[i][f] = SignalToNoise.calcSNR_sed(seds[s], lsst_total[f], darksky, lsst_system[f], \n",
    "                                              photParams, FWHMeff=FWHMeff, verbose=False)\n",
    "display(snr)"
   ]
  },
  {
   "cell_type": "code",
   "execution_count": null,
   "metadata": {
    "collapsed": true
   },
   "outputs": [],
   "source": []
  }
 ],
 "metadata": {
  "kernelspec": {
   "display_name": "Python 3",
   "language": "python",
   "name": "python3"
  },
  "language_info": {
   "codemirror_mode": {
    "name": "ipython",
    "version": 3
   },
   "file_extension": ".py",
   "mimetype": "text/x-python",
   "name": "python",
   "nbconvert_exporter": "python",
   "pygments_lexer": "ipython3",
   "version": "3.7.1"
  }
 },
 "nbformat": 4,
 "nbformat_minor": 1
}
