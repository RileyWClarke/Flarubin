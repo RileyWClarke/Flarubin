{
 "cells": [
  {
   "cell_type": "code",
   "execution_count": null,
   "metadata": {},
   "outputs": [],
   "source": [
    "import numpy as np\n",
    "from matplotlib import pyplot as plt\n",
    "\n",
    "import celerite\n",
    "from celerite import terms"
   ]
  },
  {
   "cell_type": "code",
   "execution_count": null,
   "metadata": {},
   "outputs": [],
   "source": [
    "data_times, data_temps, data_lowerr, data_upperr, data_formal_lowerr, data_formal_upperr = np.load(\"flareAreal.npy\")\n",
    "\n",
    "real_times = (data_times[data_temps>900.0]-0.0573)*24.0*60.0\n",
    "real_temps = data_temps[data_temps>900.0]\n",
    "real_uppererr = data_formal_upperr[data_temps>900.0]\n",
    "real_lowererr = data_formal_lowerr[data_temps>900.0]\n",
    "\n",
    "plt.errorbar(real_times, real_temps, yerr=[real_lowererr, real_uppererr], marker=\"o\", color=\"black\", ls=\"none\",zorder=0.05)\n",
    "\n",
    "plt.xlabel(\"Time [min]\",color=\"black\", fontsize=13)\n",
    "plt.ylabel(\"$T_\\mathrm{Eff}$ [K]\", fontsize=13)\n",
    "plt.ylim(0,50000)\n",
    "plt.yticks(fontsize=13)\n",
    "plt.xticks(fontsize=13)\n",
    "plt.title(\"Temp Profile A\")\n",
    "plt.show()"
   ]
  },
  {
   "cell_type": "code",
   "execution_count": null,
   "metadata": {},
   "outputs": [],
   "source": [
    "#make the TIME axis logspace\n",
    "log_temps = np.log10(real_temps)\n",
    "log_uppererr = 0.434 * (real_uppererr/real_temps)\n",
    "log_lowererr = 0.434 * (real_lowererr/real_temps)\n",
    "\n",
    "plt.errorbar(real_times, log_temps, yerr=[log_lowererr, log_uppererr], marker=\"o\", color=\"black\", ls=\"none\",zorder=0.05)\n",
    "\n",
    "plt.xlabel(\"Time [min]\",color=\"black\", fontsize=13)\n",
    "plt.ylabel(\"$log(T_\\mathrm{Eff})$ [K]\", fontsize=13)\n",
    "plt.yticks(fontsize=13)\n",
    "plt.xticks(fontsize=13)\n",
    "plt.title(\"Temp Profile A\")\n",
    "plt.show()"
   ]
  },
  {
   "cell_type": "code",
   "execution_count": null,
   "metadata": {},
   "outputs": [],
   "source": [
    "real_temps = np.append(4800, real_temps)\n",
    "real_times = np.append(-20, real_times)\n",
    "real_uppererr = np.append(100, real_uppererr)\n",
    "real_lowererr = np.append(100, real_lowererr)\n",
    "\n",
    "log_temps = np.log10(real_temps)\n",
    "log_uppererr = 0.434 * (real_uppererr/real_temps)\n",
    "log_lowererr = 0.434 * (real_lowererr/real_temps)\n",
    "\n",
    "plt.errorbar(real_times, log_temps, yerr=[log_lowererr, log_uppererr], marker=\"o\", color=\"black\", ls=\"none\",zorder=0.05)\n",
    "plt.xlabel(\"Time [min]\",color=\"black\", fontsize=13)\n",
    "plt.ylabel(\"$log(T_\\mathrm{Eff})$ [K]\", fontsize=13)\n",
    "plt.yticks(fontsize=13)\n",
    "plt.xticks(fontsize=13)\n",
    "plt.title(\"Temp Profile A\");"
   ]
  },
  {
   "cell_type": "code",
   "execution_count": null,
   "metadata": {},
   "outputs": [],
   "source": [
    "a1 = 50000\n",
    "a2 = 20000\n",
    "c1 = 0.4\n",
    "c2 = 0.02\n",
    "\n",
    "bounds = dict(log_a=(1,100), log_c=(-10,10))\n",
    "term1 = terms.RealTerm(log_a = np.log(a1), log_c = np.log(c1), bounds=bounds)\n",
    "term2 = terms.RealTerm(log_a = np.log(a2), log_c = np.log(c2), bounds=bounds)\n",
    "\n",
    "Q = 1.0\n",
    "w0 = 3.0\n",
    "S0 = np.var(real_temps) / (w0 * Q)\n",
    "\n",
    "bounds = dict(log_S0=(-20, 20), log_Q=(-15, 15), log_omega0=(-15, 15))\n",
    "term3 = terms.SHOTerm(log_S0=np.log(S0), log_Q=np.log(Q), log_omega0=np.log(w0),\n",
    "                        bounds=bounds)\n",
    "\n",
    "kernel = term1"
   ]
  },
  {
   "cell_type": "code",
   "execution_count": null,
   "metadata": {},
   "outputs": [],
   "source": [
    "#Create GP\n",
    "gp = celerite.GP(kernel)\n",
    "gp.compute(real_times, yerr = real_uppererr)\n",
    "print(\"Initial log likelihood: {0}\".format(gp.log_likelihood(real_temps)))"
   ]
  },
  {
   "cell_type": "code",
   "execution_count": null,
   "metadata": {},
   "outputs": [],
   "source": [
    "print(\"parameter_dict:\\n{0}\\n\".format(gp.get_parameter_dict()))\n",
    "print(\"parameter_names:\\n{0}\\n\".format(gp.get_parameter_names()))\n",
    "print(\"parameter_vector:\\n{0}\\n\".format(gp.get_parameter_vector()))\n",
    "print(\"parameter_bounds:\\n{0}\\n\".format(gp.get_parameter_bounds()))"
   ]
  },
  {
   "cell_type": "code",
   "execution_count": null,
   "metadata": {},
   "outputs": [],
   "source": [
    "from scipy.optimize import minimize\n",
    "\n",
    "def neg_log_like(params, y, gp):\n",
    "    gp.set_parameter_vector(params)\n",
    "    return -gp.log_likelihood(y)\n",
    "\n",
    "def grad_neg_log_like(params, y, gp):\n",
    "    gp.set_parameter_vector(params)\n",
    "    return -gp.grad_log_likelihood(y)[1]\n",
    "\n",
    "initial_params = gp.get_parameter_vector()\n",
    "bounds = gp.get_parameter_bounds()\n",
    "\n",
    "r = minimize(neg_log_like, initial_params, jac=grad_neg_log_like, method=\"L-BFGS-B\", bounds=bounds, args=(real_temps, gp))\n",
    "gp.set_parameter_vector(r.x)\n",
    "print(r)"
   ]
  },
  {
   "cell_type": "code",
   "execution_count": null,
   "metadata": {},
   "outputs": [],
   "source": [
    "x = np.linspace(-20, 80, 1000)\n",
    "pred_mean, pred_var = gp.predict(real_temps, x, return_var=True)\n",
    "pred_std = np.sqrt(pred_var)"
   ]
  },
  {
   "cell_type": "code",
   "execution_count": null,
   "metadata": {},
   "outputs": [],
   "source": [
    "color = \"#ff7f0e\"\n",
    "plt.errorbar(real_times, real_temps, yerr=[real_lowererr, real_uppererr], \n",
    "             marker=\"o\", color=\"black\", ls=\"none\",zorder=0.05)\n",
    "\n",
    "plt.plot(x, pred_mean, color=color)\n",
    "plt.fill_between(x, pred_mean+pred_std, pred_mean-pred_std, color=color, alpha=0.3,\n",
    "                 edgecolor=\"none\")\n",
    "\n",
    "plt.xlabel(\"Time [min]\",color=\"black\", fontsize=13)\n",
    "plt.ylabel(\"$T_\\mathrm{Eff}$ [K]\", fontsize=13)\n",
    "#plt.yscale('log')\n",
    "plt.yticks(fontsize=13)\n",
    "plt.xticks(fontsize=13)\n",
    "plt.title(\"Temp Profile A\");"
   ]
  },
  {
   "cell_type": "code",
   "execution_count": null,
   "metadata": {},
   "outputs": [],
   "source": []
  },
  {
   "cell_type": "code",
   "execution_count": null,
   "metadata": {},
   "outputs": [],
   "source": []
  }
 ],
 "metadata": {
  "language_info": {
   "name": "python"
  },
  "orig_nbformat": 4
 },
 "nbformat": 4,
 "nbformat_minor": 2
}
