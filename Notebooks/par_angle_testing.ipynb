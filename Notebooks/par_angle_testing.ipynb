{
 "cells": [
  {
   "cell_type": "code",
   "execution_count": 1,
   "metadata": {},
   "outputs": [],
   "source": [
    "from matplotlib import pyplot as plt\n",
    "import numpy as np\n",
    "import pandas as pd\n",
    "\n",
    "import astropy.units as u\n",
    "from astropy.time import Time\n",
    "from astropy.coordinates import SkyCoord, EarthLocation, AltAz, ICRS, FK5\n",
    "from astropy.io import fits"
   ]
  },
  {
   "cell_type": "code",
   "execution_count": 2,
   "metadata": {},
   "outputs": [],
   "source": [
    "from utils import celest_to_pa\n",
    "from utils import pa"
   ]
  },
  {
   "cell_type": "code",
   "execution_count": 145,
   "metadata": {},
   "outputs": [
    {
     "data": {
      "text/html": [
       "<div>\n",
       "<style scoped>\n",
       "    .dataframe tbody tr th:only-of-type {\n",
       "        vertical-align: middle;\n",
       "    }\n",
       "\n",
       "    .dataframe tbody tr th {\n",
       "        vertical-align: top;\n",
       "    }\n",
       "\n",
       "    .dataframe thead th {\n",
       "        text-align: right;\n",
       "    }\n",
       "</style>\n",
       "<table border=\"1\" class=\"dataframe\">\n",
       "  <thead>\n",
       "    <tr style=\"text-align: right;\">\n",
       "      <th></th>\n",
       "      <th>Observatory</th>\n",
       "      <th>UT Date</th>\n",
       "      <th>RA</th>\n",
       "      <th>Dec</th>\n",
       "      <th>Local Time</th>\n",
       "      <th>UT</th>\n",
       "      <th>LMST</th>\n",
       "      <th>HA</th>\n",
       "      <th>secz</th>\n",
       "      <th>PA</th>\n",
       "    </tr>\n",
       "  </thead>\n",
       "  <tbody>\n",
       "    <tr>\n",
       "      <th>0</th>\n",
       "      <td>Kitt Peak</td>\n",
       "      <td>2021-03-21</td>\n",
       "      <td>14 15 40</td>\n",
       "      <td>19 10 56</td>\n",
       "      <td>0:00:00</td>\n",
       "      <td>7:00:00</td>\n",
       "      <td>11:30:00</td>\n",
       "      <td>-2 47</td>\n",
       "      <td>1.297</td>\n",
       "      <td>-62.6</td>\n",
       "    </tr>\n",
       "    <tr>\n",
       "      <th>1</th>\n",
       "      <td>Kitt Peak</td>\n",
       "      <td>2021-03-21</td>\n",
       "      <td>14 15 40</td>\n",
       "      <td>19 10 56</td>\n",
       "      <td>6:00:00</td>\n",
       "      <td>13:00:00</td>\n",
       "      <td>17:31:00</td>\n",
       "      <td>3 14</td>\n",
       "      <td>1.42</td>\n",
       "      <td>63.5</td>\n",
       "    </tr>\n",
       "    <tr>\n",
       "      <th>2</th>\n",
       "      <td>Kitt Peak</td>\n",
       "      <td>2021-03-21</td>\n",
       "      <td>2 41 39</td>\n",
       "      <td>89 15 51</td>\n",
       "      <td>0:00:00</td>\n",
       "      <td>7:00:00</td>\n",
       "      <td>11:30:00</td>\n",
       "      <td>8 20</td>\n",
       "      <td>1.91</td>\n",
       "      <td>54.7</td>\n",
       "    </tr>\n",
       "    <tr>\n",
       "      <th>3</th>\n",
       "      <td>Kitt Peak</td>\n",
       "      <td>2021-03-21</td>\n",
       "      <td>2 41 39</td>\n",
       "      <td>89 15 51</td>\n",
       "      <td>6:00:00</td>\n",
       "      <td>13:00:00</td>\n",
       "      <td>17:31:00</td>\n",
       "      <td>-9 39</td>\n",
       "      <td>1.918</td>\n",
       "      <td>-35.0</td>\n",
       "    </tr>\n",
       "    <tr>\n",
       "      <th>4</th>\n",
       "      <td>Kitt Peak</td>\n",
       "      <td>2021-09-23</td>\n",
       "      <td>14 15 40</td>\n",
       "      <td>19 10 56</td>\n",
       "      <td>0:00:00</td>\n",
       "      <td>7:00:00</td>\n",
       "      <td>23:43:00</td>\n",
       "      <td>9 26</td>\n",
       "      <td>(down)</td>\n",
       "      <td>36.3</td>\n",
       "    </tr>\n",
       "  </tbody>\n",
       "</table>\n",
       "</div>"
      ],
      "text/plain": [
       "  Observatory     UT Date        RA       Dec Local Time        UT      LMST  \\\n",
       "0   Kitt Peak  2021-03-21  14 15 40  19 10 56    0:00:00   7:00:00  11:30:00   \n",
       "1   Kitt Peak  2021-03-21  14 15 40  19 10 56    6:00:00  13:00:00  17:31:00   \n",
       "2   Kitt Peak  2021-03-21   2 41 39  89 15 51    0:00:00   7:00:00  11:30:00   \n",
       "3   Kitt Peak  2021-03-21   2 41 39  89 15 51    6:00:00  13:00:00  17:31:00   \n",
       "4   Kitt Peak  2021-09-23  14 15 40  19 10 56    0:00:00   7:00:00  23:43:00   \n",
       "\n",
       "      HA    secz    PA  \n",
       "0  -2 47   1.297 -62.6  \n",
       "1   3 14    1.42  63.5  \n",
       "2   8 20    1.91  54.7  \n",
       "3  -9 39   1.918 -35.0  \n",
       "4   9 26  (down)  36.3  "
      ]
     },
     "execution_count": 145,
     "metadata": {},
     "output_type": "execute_result"
    }
   ],
   "source": [
    "data = pd.read_csv('../skycalc_data.csv', skiprows=1)\n",
    "data.head()"
   ]
  },
  {
   "cell_type": "code",
   "execution_count": 146,
   "metadata": {},
   "outputs": [
    {
     "data": {
      "text/plain": [
       "Observatory     Kitt Peak\n",
       "UT Date        2021-03-21\n",
       "RA               14 15 40\n",
       "Dec              19 10 56\n",
       "Local Time        0:00:00\n",
       "UT                7:00:00\n",
       "LMST             11:30:00\n",
       "HA                  -2 47\n",
       "secz                1.297\n",
       "PA                  -62.6\n",
       "Name: 0, dtype: object"
      ]
     },
     "execution_count": 146,
     "metadata": {},
     "output_type": "execute_result"
    }
   ],
   "source": [
    "obs1 = data.iloc[0]\n",
    "obs1"
   ]
  },
  {
   "cell_type": "code",
   "execution_count": 182,
   "metadata": {},
   "outputs": [
    {
     "name": "stdout",
     "output_type": "stream",
     "text": [
      "My code says: PA = -62.6651164417546\n",
      "Skycalc says: PA = -62.6\n",
      " \n",
      "My code says: LMST = 11:29:41.369\n",
      "Skycalc says: LMST = 11:30:00\n",
      " \n",
      "My code says: HA = -2.7662865048626593\n",
      "Skycalc says: HA = -2.783333333333333\n"
     ]
    }
   ],
   "source": [
    "#Direct skycalc outputs\n",
    "loc = EarthLocation.of_site(obs1['Observatory'])\n",
    "coord = SkyCoord(ra = obs1['RA'], dec = obs1['Dec'], unit = (u.hourangle, u.deg))\n",
    "time = Time(obs1['UT Date'] + 'T' + obs1['UT'], scale='ut1')\n",
    "\n",
    "if int(obs1['HA'].split()[0]) >= 0:\n",
    "    scha = int(obs1['HA'].split()[0]) + (int(obs1['HA'].split()[1]) / 60.)\n",
    "else:\n",
    "    scha = int(obs1['HA'].split()[0]) - (int(obs1['HA'].split()[1]) / 60.)\n",
    "\n",
    "#Outputs derived from skycalc with my code\n",
    "lmst = time.sidereal_time('mean', longitude=loc.lon.value)\n",
    "myha = lmst.hour - coord.ra.hour\n",
    "\n",
    "#pa function\n",
    "print('My code says: PA = {}'.format(pa(scha, loc.lat.value, coord.dec.value)))\n",
    "print('Skycalc says: PA = {}'.format(obs1['PA']))\n",
    "print(' ')\n",
    "#LMST\n",
    "print('My code says: LMST = {0:.0f}:{1:.0f}:{2:.3f}'.format(\n",
    "      lmst.hms[0],lmst.hms[1],lmst.hms[2]))\n",
    "print('Skycalc says: LMST = {}'.format(obs1['LMST']))\n",
    "print(' ')\n",
    "#ra2ha\n",
    "print('My code says: HA = {}'.format(myha))\n",
    "print('Skycalc says: HA = {}'.format(scha))"
   ]
  },
  {
   "cell_type": "code",
   "execution_count": null,
   "metadata": {},
   "outputs": [],
   "source": []
  }
 ],
 "metadata": {
  "kernelspec": {
   "display_name": "Python 3.9.6 ('venv': venv)",
   "language": "python",
   "name": "python3"
  },
  "language_info": {
   "codemirror_mode": {
    "name": "ipython",
    "version": 3
   },
   "file_extension": ".py",
   "mimetype": "text/x-python",
   "name": "python",
   "nbconvert_exporter": "python",
   "pygments_lexer": "ipython3",
   "version": "3.9.6"
  },
  "orig_nbformat": 4,
  "vscode": {
   "interpreter": {
    "hash": "4c49999eb34a23e1e464a02d7340fda221a412a3ef4e4461445114466f0d04ed"
   }
  }
 },
 "nbformat": 4,
 "nbformat_minor": 2
}
