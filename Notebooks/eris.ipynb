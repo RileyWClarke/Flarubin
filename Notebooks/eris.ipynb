{
 "cells": [
  {
   "cell_type": "code",
   "execution_count": 2,
   "metadata": {},
   "outputs": [],
   "source": [
    "import numpy as np\n",
    "from matplotlib import pyplot as plt\n",
    "import pandas as pd\n",
    "\n",
    "import astropy.units as u\n",
    "import astropy.table as tb\n",
    "from astropy.coordinates import AltAz, SkyCoord, EarthLocation\n",
    "from astropy.time import Time"
   ]
  },
  {
   "cell_type": "code",
   "execution_count": 3,
   "metadata": {},
   "outputs": [
    {
     "data": {
      "text/html": [
       "<i>Table length=34</i>\n",
       "<table id=\"table4955315984-551030\" class=\"table-striped table-bordered table-condensed\">\n",
       "<thead><tr><th>idx</th><th>RA</th><th>DEC</th><th>XWIN_IMAGE</th><th>YWIN_IMAGE</th><th>MAG</th><th>EXPNUM</th><th>CCDNUM</th><th>MJD_OBS</th><th>BAND</th><th>ERRAWIN_WORLD</th></tr></thead>\n",
       "<tr><td>0</td><td>25.65413205351103</td><td>-3.40369364645907</td><td>591.9478759765625</td><td>2819.55908203125</td><td>19.07012446181116</td><td>233221</td><td>20</td><td>56547.394167077575</td><td>g</td><td>1.1026299944205675e-06</td></tr>\n",
       "<tr><td>1</td><td>25.62471712930943</td><td>-3.4179971299815404</td><td>871.7701416015625</td><td>2369.59765625</td><td>18.231247130042036</td><td>234928</td><td>20</td><td>56551.32631116093</td><td>Y</td><td>8.587099728174508e-06</td></tr>\n",
       "<tr><td>2</td><td>25.483054040778136</td><td>-3.478566444377312</td><td>1998.750732421875</td><td>958.8739013671875</td><td>19.041695125411145</td><td>240777</td><td>11</td><td>56568.29969905758</td><td>g</td><td>8.452910265077662e-07</td></tr>\n",
       "<tr><td>3</td><td>25.475024574644998</td><td>-3.4816644110749575</td><td>1765.834228515625</td><td>297.6802062988281</td><td>19.048625591842956</td><td>241125</td><td>20</td><td>56569.200296217576</td><td>g</td><td>7.076520205373527e-07</td></tr>\n",
       "<tr><td>4</td><td>25.27225333467316</td><td>-3.5488797101605014</td><td>1702.16064453125</td><td>1757.9273681640625</td><td>19.061330059369364</td><td>246881</td><td>41</td><td>56591.14532113758</td><td>g</td><td>1.012070015349309e-06</td></tr>\n",
       "<tr><td>5</td><td>24.887509525960837</td><td>-3.600089808370126</td><td>112.17938995361328</td><td>841.9015502929688</td><td>18.60667313117216</td><td>264536</td><td>46</td><td>56641.13384800092</td><td>Y</td><td>3.3572600841580424e-06</td></tr>\n",
       "<tr><td>6</td><td>25.620745472110503</td><td>-3.2141408246268037</td><td>1595.6358642578125</td><td>163.58465576171875</td><td>18.51011390465698</td><td>364725</td><td>29</td><td>56932.33411606758</td><td>r</td><td>5.119150046084542e-07</td></tr>\n",
       "<tr><td>7</td><td>25.620733683362506</td><td>-3.2141461477604727</td><td>1675.17041015625</td><td>3377.41650390625</td><td>19.031272287740336</td><td>364726</td><td>56</td><td>56932.33547958758</td><td>g</td><td>1.1501799690449843e-06</td></tr>\n",
       "<tr><td>8</td><td>25.62072628119369</td><td>-3.21415320466121</td><td>1591.363525390625</td><td>175.46981811523438</td><td>18.406556151539682</td><td>364727</td><td>29</td><td>56932.33683486757</td><td>i</td><td>7.388459835055983e-07</td></tr>\n",
       "<tr><td>9</td><td>25.32673489691202</td><td>-3.30772339866268</td><td>362.2659606933594</td><td>1941.66796875</td><td>18.642458804327276</td><td>374544</td><td>31</td><td>56964.241318330925</td><td>Y</td><td>2.667740091055748e-06</td></tr>\n",
       "<tr><td>10</td><td>25.326675915345497</td><td>-3.307731721252364</td><td>1960.704345703125</td><td>986.2377319335938</td><td>18.507109401586526</td><td>374550</td><td>6</td><td>56964.24818197757</td><td>z</td><td>1.1028099606846808e-06</td></tr>\n",
       "<tr><td>11</td><td>25.119864277543083</td><td>-3.3430320497405415</td><td>182.34130859375</td><td>286.4583740234375</td><td>18.517946372201454</td><td>382258</td><td>10</td><td>56989.16892855758</td><td>r</td><td>6.560609904227022e-07</td></tr>\n",
       "<tr><td>12</td><td>25.066139700804385</td><td>-3.345070394338445</td><td>247.7436065673828</td><td>3811.92431640625</td><td>18.58736847182039</td><td>384049</td><td>9</td><td>56997.10823784093</td><td>Y</td><td>2.064339923890657e-06</td></tr>\n",
       "<tr><td>13</td><td>25.00976158244785</td><td>-3.3408106519494254</td><td>808.5526123046875</td><td>1837.582763671875</td><td>18.444022924517103</td><td>388143</td><td>30</td><td>57007.11510361757</td><td>i</td><td>4.782079940923722e-07</td></tr>\n",
       "<tr><td>14</td><td>24.932155267714407</td><td>-3.283116366645077</td><td>293.1861572265625</td><td>3544.307373046875</td><td>18.53174631426357</td><td>398231</td><td>33</td><td>57037.05241890757</td><td>z</td><td>1.0898800155700883e-06</td></tr>\n",
       "<tr><td>15</td><td>25.792818116396862</td><td>-2.93530835961285</td><td>1814.9779052734375</td><td>639.1138916015625</td><td>18.61240117035596</td><td>478983</td><td>57</td><td>57292.32592303093</td><td>Y</td><td>5.1727301979553886e-06</td></tr>\n",
       "<tr><td>16</td><td>25.126762789992608</td><td>-3.080485769299115</td><td>1166.4498291015625</td><td>2604.942138671875</td><td>18.493220523869955</td><td>503010</td><td>30</td><td>57374.081792817575</td><td>z</td><td>1.0395999652246246e-06</td></tr>\n",
       "<tr><td>17</td><td>25.12653086664489</td><td>-3.080438114662847</td><td>1149.595947265625</td><td>2581.975830078125</td><td>18.441995140991686</td><td>503041</td><td>30</td><td>57374.130083917575</td><td>i</td><td>7.536959856224712e-07</td></tr>\n",
       "<tr><td>18</td><td>25.075817096819105</td><td>-3.0604424207684167</td><td>475.1058044433594</td><td>792.0830078125</td><td>18.455533232435307</td><td>507393</td><td>35</td><td>57388.08089817758</td><td>i</td><td>5.228509962762473e-07</td></tr>\n",
       "<tr><td>19</td><td>25.07581348379261</td><td>-3.0604391713176424</td><td>477.5180969238281</td><td>794.6998291015625</td><td>18.528339297019393</td><td>507394</td><td>35</td><td>57388.08227049757</td><td>z</td><td>7.934970085443638e-07</td></tr>\n",
       "<tr><td>20</td><td>26.139073714380938</td><td>-2.5652046291231763</td><td>1179.4691162109375</td><td>1136.827880859375</td><td>18.52650884580742</td><td>567918</td><td>48</td><td>57626.35056321757</td><td>r</td><td>5.034260084357811e-07</td></tr>\n",
       "<tr><td>21</td><td>26.122740944091422</td><td>-2.5751480666194033</td><td>1340.65576171875</td><td>902.8119506835938</td><td>19.074013725423068</td><td>568777</td><td>48</td><td>57629.34806436757</td><td>g</td><td>8.49405978442519e-07</td></tr>\n",
       "<tr><td>22</td><td>25.382202868783896</td><td>-2.8225323835680576</td><td>1472.815185546875</td><td>459.1220397949219</td><td>18.504552652650467</td><td>596512</td><td>22</td><td>57718.14582439757</td><td>r</td><td>6.02712987074483e-07</td></tr>\n",
       "<tr><td>23</td><td>25.367416897580135</td><td>-2.823866994096926</td><td>1523.0618896484375</td><td>235.23837280273438</td><td>18.4231242604969</td><td>597221</td><td>22</td><td>57720.16398251757</td><td>i</td><td>5.684349844159442e-07</td></tr>\n",
       "<tr><td>24</td><td>25.360520259500245</td><td>-2.8243921694877487</td><td>1511.6783447265625</td><td>159.90586853027344</td><td>19.03804073182002</td><td>597555</td><td>22</td><td>57721.12756152757</td><td>g</td><td>9.816510555538116e-07</td></tr>\n",
       "<tr><td>25</td><td>25.307762347353187</td><td>-2.82613409713469</td><td>1493.07861328125</td><td>3641.27099609375</td><td>18.525369637775285</td><td>600469</td><td>21</td><td>57729.07150321757</td><td>z</td><td>1.076969965652097e-06</td></tr>\n",
       "<tr><td>26</td><td>25.307754324784362</td><td>-2.8261361237346008</td><td>1498.2757568359375</td><td>3649.0556640625</td><td>18.57909114785535</td><td>600470</td><td>21</td><td>57729.07287822758</td><td>Y</td><td>2.304780082340585e-06</td></tr>\n",
       "<tr><td>27</td><td>25.989230378135748</td><td>-2.4356645752247377</td><td>369.0009460449219</td><td>1074.07568359375</td><td>18.47932553478143</td><td>683902</td><td>29</td><td>58029.19307700758</td><td>z</td><td>1.4592200159313506e-06</td></tr>\n",
       "<tr><td>28</td><td>25.748074523336356</td><td>-2.5146398844913818</td><td>1496.9571533203125</td><td>1981.2803955078125</td><td>18.50695545263577</td><td>692049</td><td>28</td><td>58055.25109424758</td><td>r</td><td>4.787680154549889e-07</td></tr>\n",
       "<tr><td>29</td><td>25.748063056649276</td><td>-2.51464321802017</td><td>1483.2603759765625</td><td>1971.0635986328125</td><td>18.405709928234582</td><td>692050</td><td>28</td><td>58055.252486307574</td><td>i</td><td>4.5557899852610717e-07</td></tr>\n",
       "<tr><td>30</td><td>25.56402151825198</td><td>-2.5547280487674917</td><td>263.3454284667969</td><td>1040.1837158203125</td><td>18.533475452184284</td><td>697638</td><td>17</td><td>58076.150210977576</td><td>r</td><td>6.373970222739445e-07</td></tr>\n",
       "<tr><td>31</td><td>25.564009510356026</td><td>-2.554730199480112</td><td>274.1632995605469</td><td>1027.846923828125</td><td>19.079733764903196</td><td>697639</td><td>17</td><td>58076.15158712758</td><td>g</td><td>9.062550248017942e-07</td></tr>\n",
       "<tr><td>32</td><td>25.352592394568802</td><td>-2.55600131039817</td><td>298.8306884765625</td><td>2399.139892578125</td><td>18.588894095138876</td><td>706447</td><td>16</td><td>58110.09772581758</td><td>Y</td><td>2.415910103081842e-06</td></tr>\n",
       "<tr><td>33</td><td>26.21026323871579</td><td>-2.1351887918066126</td><td>1184.7364501953125</td><td>1491.6298828125</td><td>18.484281035843857</td><td>776431</td><td>36</td><td>58383.346349007574</td><td>z</td><td>1.0164300192627707e-06</td></tr>\n",
       "</table><style>table.dataTable {clear: both; width: auto !important; margin: 0 !important;}\n",
       ".dataTables_info, .dataTables_length, .dataTables_filter, .dataTables_paginate{\n",
       "display: inline-block; margin-right: 1em; }\n",
       ".paginate_button { margin-right: 5px; }\n",
       "</style>\n",
       "<script>\n",
       "\n",
       "var astropy_sort_num = function(a, b) {\n",
       "    var a_num = parseFloat(a);\n",
       "    var b_num = parseFloat(b);\n",
       "\n",
       "    if (isNaN(a_num) && isNaN(b_num))\n",
       "        return ((a < b) ? -1 : ((a > b) ? 1 : 0));\n",
       "    else if (!isNaN(a_num) && !isNaN(b_num))\n",
       "        return ((a_num < b_num) ? -1 : ((a_num > b_num) ? 1 : 0));\n",
       "    else\n",
       "        return isNaN(a_num) ? -1 : 1;\n",
       "}\n",
       "\n",
       "require.config({paths: {\n",
       "    datatables: 'https://cdn.datatables.net/1.10.12/js/jquery.dataTables.min'\n",
       "}});\n",
       "require([\"datatables\"], function(){\n",
       "    console.log(\"$('#table4955315984-551030').dataTable()\");\n",
       "    \n",
       "jQuery.extend( jQuery.fn.dataTableExt.oSort, {\n",
       "    \"optionalnum-asc\": astropy_sort_num,\n",
       "    \"optionalnum-desc\": function (a,b) { return -astropy_sort_num(a, b); }\n",
       "});\n",
       "\n",
       "    $('#table4955315984-551030').dataTable({\n",
       "        order: [],\n",
       "        pageLength: 50,\n",
       "        lengthMenu: [[10, 25, 50, 100, 500, 1000, -1], [10, 25, 50, 100, 500, 1000, 'All']],\n",
       "        pagingType: \"full_numbers\",\n",
       "        columnDefs: [{targets: [0, 1, 2, 3, 4, 5, 6, 7, 8, 10], type: \"optionalnum\"}]\n",
       "    });\n",
       "});\n",
       "</script>\n"
      ],
      "text/plain": [
       "<IPython.core.display.HTML object>"
      ]
     },
     "execution_count": 3,
     "metadata": {},
     "output_type": "execute_result"
    }
   ],
   "source": [
    "eris_true_FITS = \"/Users/riley/Desktop/RAFTS/eris_true.fits\"\n",
    "eris_true = tb.Table.read(eris_true_FITS)\n",
    "eris_true_exps = np.array(np.unique(eris_true[\"EXPNUM\"]), dtype=int)\n",
    "\n",
    "eris_true.show_in_notebook()"
   ]
  },
  {
   "cell_type": "code",
   "execution_count": 4,
   "metadata": {},
   "outputs": [],
   "source": [
    "alts = np.zeros(len(eris_true))\n",
    "\n",
    "for i in range(len(eris_true)):\n",
    "    alts[i] = SkyCoord(ra=eris_true['RA'][i], dec=eris_true['DEC'][i], unit=u.deg).transform_to(\n",
    "              AltAz(obstime=Time(eris_true['MJD_OBS'][i], format='mjd'), location=EarthLocation.of_site('Cerro Tololo'))).alt.value"
   ]
  },
  {
   "cell_type": "code",
   "execution_count": 5,
   "metadata": {},
   "outputs": [
    {
     "data": {
      "text/plain": [
       "array([46.07945385, 59.07381836, 55.17621621, 61.1814556 , 61.90596162,\n",
       "       46.62509093, 47.5578178 , 47.19911299, 46.84064101, 48.82188499,\n",
       "       47.02833065, 49.75509401, 58.31823825, 50.84807751, 45.76802323,\n",
       "       53.04225369, 57.06806262, 45.63531285, 48.47070691, 48.11636693,\n",
       "       62.05087555, 61.72384347, 55.80014736, 50.4455033 , 57.7276761 ,\n",
       "       62.05701057, 61.96290904, 58.56519003, 49.3620203 , 49.01384504,\n",
       "       58.49997884, 58.27325383, 49.91255447, 50.96189293])"
      ]
     },
     "execution_count": 5,
     "metadata": {},
     "output_type": "execute_result"
    }
   ],
   "source": [
    "alts"
   ]
  },
  {
   "cell_type": "code",
   "execution_count": 6,
   "metadata": {},
   "outputs": [
    {
     "data": {
      "text/plain": [
       "array([43.92054615, 30.92618164, 34.82378379, 28.8185444 , 28.09403838,\n",
       "       43.37490907, 42.4421822 , 42.80088701, 43.15935899, 41.17811501,\n",
       "       42.97166935, 40.24490599, 31.68176175, 39.15192249, 44.23197677,\n",
       "       36.95774631, 32.93193738, 44.36468715, 41.52929309, 41.88363307,\n",
       "       27.94912445, 28.27615653, 34.19985264, 39.5544967 , 32.2723239 ,\n",
       "       27.94298943, 28.03709096, 31.43480997, 40.6379797 , 40.98615496,\n",
       "       31.50002116, 31.72674617, 40.08744553, 39.03810707])"
      ]
     },
     "execution_count": 6,
     "metadata": {},
     "output_type": "execute_result"
    }
   ],
   "source": [
    "z = 90 - alts\n",
    "z"
   ]
  },
  {
   "cell_type": "code",
   "execution_count": 7,
   "metadata": {},
   "outputs": [
    {
     "data": {
      "text/plain": [
       "array([1.38830578, 1.16573193, 1.21815702, 1.14135615, 1.13356082,\n",
       "       1.37575144, 1.35508937, 1.36291895, 1.37088835, 1.32860977,\n",
       "       1.36669745, 1.31011819, 1.17511805, 1.28953296, 1.39563171,\n",
       "       1.25144055, 1.191445  , 1.39878967, 1.33579681, 1.34317922,\n",
       "       1.13203603, 1.13549322, 1.20906993, 1.29698451, 1.18270435,\n",
       "       1.13197173, 1.13296026, 1.17201129, 1.31780127, 1.32473476,\n",
       "       1.17282796, 1.1756881 , 1.30708272, 1.28745325])"
      ]
     },
     "execution_count": 7,
     "metadata": {},
     "output_type": "execute_result"
    }
   ],
   "source": [
    "X = 1 / np.cos(np.deg2rad(z))\n",
    "X"
   ]
  },
  {
   "cell_type": "code",
   "execution_count": 8,
   "metadata": {},
   "outputs": [
    {
     "data": {
      "text/plain": [
       "Text(0.5, 0, 'Airmass (X)')"
      ]
     },
     "execution_count": 8,
     "metadata": {},
     "output_type": "execute_result"
    },
    {
     "data": {
      "image/png": "[encoded data removed]",
      "text/plain": [
       "<Figure size 640x480 with 1 Axes>"
      ]
     },
     "metadata": {},
     "output_type": "display_data"
    }
   ],
   "source": [
    "plt.hist(X)\n",
    "plt.xlabel('Airmass (X)')"
   ]
  },
  {
   "cell_type": "code",
   "execution_count": 9,
   "metadata": {},
   "outputs": [
    {
     "data": {
      "text/plain": [
       "Text(0.5, 0, 'Zenith Angle (deg)')"
      ]
     },
     "execution_count": 9,
     "metadata": {},
     "output_type": "execute_result"
    },
    {
     "data": {
      "image/png": "[encoded data removed]",
      "text/plain": [
       "<Figure size 640x480 with 1 Axes>"
      ]
     },
     "metadata": {},
     "output_type": "display_data"
    }
   ],
   "source": [
    "plt.hist(z)\n",
    "plt.xlabel('Zenith Angle (deg)')"
   ]
  },
  {
   "cell_type": "code",
   "execution_count": 10,
   "metadata": {},
   "outputs": [
    {
     "name": "stdout",
     "output_type": "stream",
     "text": [
      "1.2610864285396028 0.09259696766389455\n"
     ]
    }
   ],
   "source": [
    "print(X.mean(), X.std())"
   ]
  },
  {
   "cell_type": "code",
   "execution_count": 11,
   "metadata": {},
   "outputs": [
    {
     "name": "stdout",
     "output_type": "stream",
     "text": [
      "27.942989431681525 44.36468714610996\n"
     ]
    }
   ],
   "source": [
    "print(z.min(), z.max())"
   ]
  },
  {
   "cell_type": "code",
   "execution_count": 12,
   "metadata": {},
   "outputs": [
    {
     "data": {
      "text/plain": [
       "1.2884931033173923"
      ]
     },
     "execution_count": 12,
     "metadata": {},
     "output_type": "execute_result"
    }
   ],
   "source": [
    "np.median(X)"
   ]
  },
  {
   "cell_type": "code",
   "execution_count": null,
   "metadata": {},
   "outputs": [],
   "source": []
  }
 ],
 "metadata": {
  "kernelspec": {
   "display_name": "venv",
   "language": "python",
   "name": "python3"
  },
  "language_info": {
   "codemirror_mode": {
    "name": "ipython",
    "version": 3
   },
   "file_extension": ".py",
   "mimetype": "text/x-python",
   "name": "python",
   "nbconvert_exporter": "python",
   "pygments_lexer": "ipython3",
   "version": "3.9.6"
  },
  "orig_nbformat": 4
 },
 "nbformat": 4,
 "nbformat_minor": 2
}
